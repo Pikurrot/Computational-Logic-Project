{
 "cells": [
  {
   "cell_type": "code",
   "execution_count": null,
   "id": "f0c17af2",
   "metadata": {},
   "outputs": [],
   "source": []
  }
 ],
 "metadata": {
  "kernelspec": {
   "display_name": "Python 3.8.10 64-bit (microsoft store)",
   "language": "python",
   "name": "python3"
  },
  "language_info": {
   "codemirror_mode": {
    "name": "ipython",
    "version": 3
   },
   "file_extension": ".py",
   "mimetype": "text/x-python",
   "name": "python",
   "nbconvert_exporter": "python",
   "pygments_lexer": "ipython3",
   "version": "3.8.10"
  },
  "vscode": {
   "interpreter": {
    "hash": "2fb2227fe45dc1bff7c06a18e07d910b776805fcded8c16903e5d279332a29ab"
   }
  }
 },
 "nbformat": 4,
 "nbformat_minor": 5
}
